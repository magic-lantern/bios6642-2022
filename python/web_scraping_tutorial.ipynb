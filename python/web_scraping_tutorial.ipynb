{
 "cells": [
  {
   "cell_type": "code",
   "execution_count": null,
   "id": "f017465f",
   "metadata": {},
   "outputs": [],
   "source": [
    "# some libraries that are used across examples\n",
    "from pprint import pprint\n",
    "import re\n",
    "import time"
   ]
  },
  {
   "cell_type": "markdown",
   "id": "ca3e2634",
   "metadata": {},
   "source": [
    "# Web scraping\n",
    "\n",
    "Why web scraping?\n",
    "\n",
    "Many experts have proposed that 80% of a machine learning/AI project is spent on data gathering and preparation, with 20% spent on training a model. For more on this topic, watch Dr. Andrew Ng's presention on data centric AI availble at https://youtu.be/06-AZXmwHjo.\n",
    "\n",
    "Recently the topic of web scraping has been in the news as a high profile case has been working its way through the US legal system. Automated scraping of publicly available information is legal: https://techcrunch.com/2022/04/18/web-scraping-legal-court/ as affirmed in the various trials of LinkedIn v Hiq Labs.\n",
    "\n",
    "Data gathering is hard. If you can re-use data gathered by someone else, it can make your project possible. Note, reusing data collected for another purpose will still be hard and require quite a bit of data preparation.\n",
    "\n",
    "**The best tool to use is the one you already know.**\n",
    "\n",
    "Pandas has functionality that allows one to read in data from a variety of sources. Some include:\n",
    "\n",
    "* comma separated value or tab separated value files\n",
    "* databases (anything supported by SQLAlchemy)\n",
    "* web pages (finds all HTML tables)\n",
    "\n",
    "To learn more, see https://pandas.pydata.org/pandas-docs/stable/reference/api/pandas.read_html.html. Note this method doesn't support https and has a few other gotchas.\n"
   ]
  },
  {
   "cell_type": "code",
   "execution_count": null,
   "id": "d40bdf1a",
   "metadata": {},
   "outputs": [],
   "source": [
    "import pandas as pd"
   ]
  },
  {
   "cell_type": "code",
   "execution_count": null,
   "id": "7305fcd0",
   "metadata": {},
   "outputs": [],
   "source": [
    "url = 'https://www.espn.com/mens-college-basketball/team/stats/_/id/38/colorado-buffaloes'"
   ]
  },
  {
   "cell_type": "code",
   "execution_count": null,
   "id": "5c50d774",
   "metadata": {},
   "outputs": [],
   "source": [
    "dfs = pd.read_html(url)\n",
    "print(len(dfs))"
   ]
  },
  {
   "cell_type": "markdown",
   "id": "c30902f0",
   "metadata": {},
   "source": [
    "You may notice when looking at the web page that it looks like two stats tables, not 4."
   ]
  },
  {
   "cell_type": "code",
   "execution_count": null,
   "id": "1a622c9b",
   "metadata": {},
   "outputs": [],
   "source": [
    "for df in dfs:\n",
    "    print(df.head())\n",
    "    print('------------')"
   ]
  },
  {
   "cell_type": "markdown",
   "id": "6ac8944b",
   "metadata": {},
   "source": [
    "It appears that the player info is in a separate table from their stats. Let's combine the two."
   ]
  },
  {
   "cell_type": "code",
   "execution_count": null,
   "id": "6b358189",
   "metadata": {},
   "outputs": [],
   "source": [
    "stats_df = pd.concat([dfs[2], dfs[3]], axis=1)\n",
    "stats_df"
   ]
  },
  {
   "cell_type": "markdown",
   "id": "f1172438-968f-47c4-90b5-32858106cc49",
   "metadata": {},
   "source": [
    "\n",
    "\n",
    "![Data Pipeline](https://imgs.xkcd.com/comics/data_pipeline.png)\n",
    "\n",
    "https://xkcd.com/2054/\n",
    "\n",
    "\"Is the pipeline literally running from your laptop?\"\n",
    "\n",
    "\"Don't be silly, my laptop disconnects far too often to host a service we rely on. It's running on my phone.\""
   ]
  },
  {
   "cell_type": "code",
   "execution_count": null,
   "id": "4400f578",
   "metadata": {},
   "outputs": [],
   "source": [
    "# url = 'https://cubuffs.com/sports/mens-basketball/stats/2019-20'\n",
    "url = 'https://en.wikipedia.org/wiki/Colorado_Buffaloes_men%27s_basketball'"
   ]
  },
  {
   "cell_type": "code",
   "execution_count": null,
   "id": "f080e289",
   "metadata": {},
   "outputs": [],
   "source": [
    "dfs = pd.read_html(url)\n",
    "print(len(dfs))"
   ]
  },
  {
   "cell_type": "markdown",
   "id": "7ea2d5ec",
   "metadata": {},
   "source": [
    "Compare https://en.wikipedia.org/wiki/Colorado_Buffaloes_men%27s_basketball#NCAA_Tournament_results to this"
   ]
  },
  {
   "cell_type": "code",
   "execution_count": null,
   "id": "5ab06d0c",
   "metadata": {},
   "outputs": [],
   "source": [
    "dfs[18]"
   ]
  },
  {
   "cell_type": "markdown",
   "id": "a281c03e",
   "metadata": {},
   "source": [
    "Also note, that Pandas can create HTML - so you can use Python to create a table for a web page."
   ]
  },
  {
   "cell_type": "code",
   "execution_count": null,
   "id": "624c5c6b",
   "metadata": {},
   "outputs": [],
   "source": [
    "dfs[18].to_html()"
   ]
  },
  {
   "cell_type": "markdown",
   "id": "124c6b1c-31af-4337-913b-4b7e324610a7",
   "metadata": {},
   "source": [
    "### Status Check\n",
    "\n",
    "https://cups.fast.ai/gitandweb"
   ]
  },
  {
   "cell_type": "markdown",
   "id": "7bfe3270",
   "metadata": {},
   "source": [
    "# More web Scraping"
   ]
  },
  {
   "cell_type": "code",
   "execution_count": null,
   "id": "3a19db56",
   "metadata": {},
   "outputs": [],
   "source": [
    "import re"
   ]
  },
  {
   "cell_type": "code",
   "execution_count": null,
   "id": "7e3f0b22",
   "metadata": {},
   "outputs": [],
   "source": [
    "url = 'https://www.time.gov/'"
   ]
  },
  {
   "cell_type": "markdown",
   "id": "66da0a98",
   "metadata": {},
   "source": [
    "## Web scraping using Requests-HTML"
   ]
  },
  {
   "cell_type": "code",
   "execution_count": null,
   "id": "912c2dff",
   "metadata": {},
   "outputs": [],
   "source": [
    "from requests_html import HTMLSession"
   ]
  },
  {
   "cell_type": "code",
   "execution_count": null,
   "id": "b708a73a",
   "metadata": {},
   "outputs": [],
   "source": [
    "session = HTMLSession()\n",
    "r = session.get(url)"
   ]
  },
  {
   "cell_type": "code",
   "execution_count": null,
   "id": "1753c738",
   "metadata": {},
   "outputs": [],
   "source": [
    "page_html = r.html.raw_html.decode('utf-8')"
   ]
  },
  {
   "cell_type": "code",
   "execution_count": null,
   "id": "3b17b4ad",
   "metadata": {},
   "outputs": [],
   "source": [
    "html_body = re.search(r'<body>.+</body>', page_html, flags=re.DOTALL)[0]\n",
    "lines = re.findall(r'.+', html_body)\n",
    "for n in range(20):\n",
    "    print(lines[n])"
   ]
  },
  {
   "cell_type": "code",
   "execution_count": null,
   "id": "dd91616e",
   "metadata": {},
   "outputs": [],
   "source": [
    "r.html.find('time')"
   ]
  },
  {
   "cell_type": "code",
   "execution_count": null,
   "id": "6b1d9426",
   "metadata": {},
   "outputs": [],
   "source": [
    "for t in r.html.find('time'):\n",
    "    if 'id' in t.attrs.keys():\n",
    "        print(f'UTC Time is: {t.text}')"
   ]
  },
  {
   "cell_type": "markdown",
   "id": "4bdc273a-47d0-4c3f-ae0a-c48e54ff4c5a",
   "metadata": {},
   "source": [
    "### What's going on?\n",
    "\n",
    "When you open the web page in your browser you can see the time. Turns out that the time portion of the website is made possible by a client side programming language called Javascript.\n",
    "\n",
    "Some history: (see https://en.wikipedia.org/wiki/JavaScript#History)\n",
    "\n",
    "> The first web browser with a graphical user interface, Mosaic, was released in 1993. Accessible to non-technical people, it played a prominent role in the rapid growth of the nascent World Wide Web. The lead developers of Mosaic then founded the Netscape corporation, which released a more polished browser, Netscape Navigator, in 1994. This quickly became the most-used.\n",
    ">\n",
    "> During these formative years of the Web, web pages could only be static, lacking the capability for dynamic behavior after the page was loaded in the browser. There was a desire in the burgeoning web development scene to remove this limitation, so in 1995, Netscape decided to add a scripting language to Navigator. They pursued two routes to achieve this: collaborating with Sun Microsystems to embed the Java programming language, while also hiring Brendan Eich to embed the Scheme language.\n",
    "> \n",
    "> Netscape management soon decided that the best option was for Eich to devise a new language, with syntax similar to Java and less like Scheme or other extant scripting languages. Although the new language and its interpreter implementation were called LiveScript when first shipped as part of a Navigator beta in September 1995, the name was changed to JavaScript for the official release in December.\n",
    "\n",
    "Pandas and Requests-HTML, though great tools do not have a JavaScript parser built in. You need something more advanced to do that."
   ]
  },
  {
   "cell_type": "markdown",
   "id": "aa2c1e94-cea2-4243-8b3c-cb136880f637",
   "metadata": {},
   "source": [
    "### How to replicate this?\n",
    "\n",
    "https://www.lifewire.com/disable-javascript-in-firefox-446039\n",
    "\n",
    "https://www.lifewire.com/disable-javascript-in-google-chrome-4103631"
   ]
  },
  {
   "cell_type": "markdown",
   "id": "2db092cb",
   "metadata": {},
   "source": [
    "## Web scraping using Selenium and a web browser\n",
    "\n",
    "For documentation on Selenium, see:\n",
    "\n",
    "* https://selenium-python.readthedocs.io/index.html\n",
    "* https://www.selenium.dev/documentation/en/\n",
    "\n",
    "For a introductory tutorial, see https://www.scrapingbee.com/blog/selenium-python/\n",
    "\n",
    "To create Selenium scripts it can be helpful to use a test-recording tool such as [Selenium IDE](https://github.com/SeleniumHQ/selenium-ide). Selenium IDE allows you to use your browser as normal and save the actions code that can easily be edited or modified.\n",
    "\n",
    "Selenium requires additional webdriver software that allows you to control Chrome, Firefox, etc. via Python.\n",
    "\n",
    "On macOS, you can use `brew` (https://brew.sh/) to install the dependencies:\n",
    "\n",
    "```bash\n",
    "brew install geckodriver\n",
    "brew install chromedriver\n",
    "```\n",
    "\n",
    "On Windows 10, you can use `choco` (https://chocolatey.org/) to install the dependencies (Run this in an Administrator shell):\n",
    "\n",
    "```powershell\n",
    "# use this line to install firefox version\n",
    "choco install selenium-gecko-driver\n",
    "# use this line to install chrome version\n",
    "choco install chromedriver\n",
    "```"
   ]
  },
  {
   "cell_type": "code",
   "execution_count": null,
   "id": "f5b3a927",
   "metadata": {},
   "outputs": [],
   "source": [
    "from selenium import webdriver\n",
    "from IPython.display import Image\n",
    "from selenium.webdriver.support.select import Select\n",
    "from selenium.webdriver.support.ui import WebDriverWait"
   ]
  },
  {
   "cell_type": "code",
   "execution_count": null,
   "id": "4c1546d6",
   "metadata": {},
   "outputs": [],
   "source": [
    "from selenium.webdriver.firefox.options import Options as firefoxoptions\n",
    "options = firefoxoptions()\n",
    "# comment out this line to see what's happening\n",
    "# options.headless = True\n",
    "driver = webdriver.Firefox(options=options)\n",
    "driver.set_window_size(1024,768)\n",
    "driver.get(url)\n",
    "driver.save_screenshot('firefox.png')"
   ]
  },
  {
   "cell_type": "code",
   "execution_count": null,
   "id": "363c86fe",
   "metadata": {},
   "outputs": [],
   "source": [
    "pprint(driver.capabilities)"
   ]
  },
  {
   "cell_type": "code",
   "execution_count": null,
   "id": "e100e8c8",
   "metadata": {},
   "outputs": [],
   "source": [
    "Image(filename='firefox.png')"
   ]
  },
  {
   "cell_type": "markdown",
   "id": "9fcea15e",
   "metadata": {},
   "source": [
    "Alternatively use Chrome\n",
    "```python\n",
    "from selenium.webdriver.chrome.options import Options as chromeoptions\n",
    "options = chromeoptions()\n",
    "options.headless = True\n",
    "driver = webdriver.Chrome(options=options)\n",
    "driver.set_window_size(640,480)\n",
    "driver.get(url)\n",
    "driver.save_screenshot('chrome.png')\n",
    "Image(filename='chrome.png')\n",
    "```"
   ]
  },
  {
   "cell_type": "code",
   "execution_count": null,
   "id": "b21c69fe",
   "metadata": {},
   "outputs": [],
   "source": [
    "page_html = driver.page_source\n",
    "\n",
    "html_body = re.search(r'<body>.+</body>', page_html, flags=re.DOTALL)[0]\n",
    "lines = re.findall(r'.+', html_body)\n",
    "for n in range(20):\n",
    "    print(lines[n])"
   ]
  },
  {
   "cell_type": "code",
   "execution_count": null,
   "id": "4f56812d",
   "metadata": {},
   "outputs": [],
   "source": [
    "driver.find_elements_by_tag_name('time')"
   ]
  },
  {
   "cell_type": "code",
   "execution_count": null,
   "id": "2b6532d6",
   "metadata": {},
   "outputs": [],
   "source": [
    "for t in driver.find_elements_by_tag_name('time'):\n",
    "    if t.get_attribute('id') != '':\n",
    "        print(t.text)"
   ]
  },
  {
   "cell_type": "markdown",
   "id": "35d6ba7d-238f-47bf-abc1-30f3aa8fb133",
   "metadata": {},
   "source": [
    "### Status Check\n",
    "\n",
    "https://cups.fast.ai/gitandweb"
   ]
  },
  {
   "cell_type": "markdown",
   "id": "527808df",
   "metadata": {},
   "source": [
    "### A slightly more advanced example\n",
    "\n",
    "Similar to web development, using Selenium for web scraping requires knowledge of HTML, CSS, and Javascript. One important skill to have is how to select elements from the document object model. There are various ways of identifying or selecting desired elements.\n",
    "\n",
    "Basic Tutorial on how the web works:\n",
    "\n",
    "https://www.freecodecamp.org/news/web-development-for-beginners-basic-html-and-css/\n",
    "\n",
    "And another:\n",
    "\n",
    "https://microsoft.github.io/Web-Dev-For-Beginners/\n",
    "\n",
    "Here are some references to learn more about Cascading Style Sheets aka CSS:\n",
    "\n",
    "* [The 30 CSS Selectors You Must Memorize](https://code.tutsplus.com/tutorials/the-30-css-selectors-you-must-memorize--net-16048)\n",
    "* [CSS Selector Reference](https://www.w3schools.com/cssref/css_selectors.asp)"
   ]
  },
  {
   "cell_type": "code",
   "execution_count": null,
   "id": "050de474",
   "metadata": {},
   "outputs": [],
   "source": [
    "driver.get('https://www.amazon.com')"
   ]
  },
  {
   "cell_type": "code",
   "execution_count": null,
   "id": "443a9b4f",
   "metadata": {},
   "outputs": [],
   "source": [
    "search_box = driver.find_element_by_id('twotabsearchtextbox')\n",
    "search_box.clear()\n",
    "search_box.send_keys('512GB sd card\\n')\n",
    "search_box.submit()"
   ]
  },
  {
   "cell_type": "markdown",
   "id": "8ea4f443",
   "metadata": {},
   "source": [
    "Due to needing time for browser to load and render all content, if you run this next cell immediately after the previous one, it may fail.\n",
    "\n",
    "There are a few options to solve this issue:\n",
    "\n",
    "* Put in an explicit wait via `time.sleep()` call to help prevent problems.\n",
    "* Configure the driver to wait if an element found doesn't exist via `driver.implicitly_wait(n)`. In my experience with the Gecko driver, this can fail when chaining operations such as `li.find_element_by_class_name('a-link-normal').click()`\n",
    "* Depending on what is needed on a page, wait for that explicitly via `WebDriverWait(driver, n)`\n",
    "\n",
    "See https://selenium-python.readthedocs.io/waits.html for more information."
   ]
  },
  {
   "cell_type": "code",
   "execution_count": null,
   "id": "2582a1fd",
   "metadata": {},
   "outputs": [],
   "source": [
    "# Tell selenium to wait up to 5 seconds for desired elements to exist\n",
    "driver.implicitly_wait(5)"
   ]
  },
  {
   "cell_type": "code",
   "execution_count": null,
   "id": "2ebbaf77",
   "metadata": {},
   "outputs": [],
   "source": [
    "# implicity_wait works here\n",
    "dropdown = driver.find_element_by_class_name('a-dropdown-container')\n",
    "time.sleep(2)\n",
    "dropdown.click()\n",
    "time.sleep(2)"
   ]
  },
  {
   "cell_type": "code",
   "execution_count": null,
   "id": "397117c9",
   "metadata": {},
   "outputs": [],
   "source": [
    "# sort by 'Price: Low to High'\n",
    "# implicity_wait often fails here\n",
    "driver.find_element_by_id('s-result-sort-select_1').click()"
   ]
  },
  {
   "cell_type": "code",
   "execution_count": null,
   "id": "0dc81238",
   "metadata": {},
   "outputs": [],
   "source": [
    "# despite search terms, some small SDCards are shown\n",
    "# click on the filter link on the left\n",
    "li = driver.find_element_by_id('p_n_feature_two_browse-bin/13203835011')\n",
    "li_class = li.find_element_by_class_name('a-link-normal')\n",
    "li_class.click()"
   ]
  },
  {
   "cell_type": "code",
   "execution_count": null,
   "id": "3e277bbc",
   "metadata": {},
   "outputs": [],
   "source": [
    "product_desc = []\n",
    "product_price = []\n",
    "\n",
    "products = driver.find_elements_by_css_selector('.sg-col.sg-col-4-of-12.sg-col-8-of-16.sg-col-12-of-20')\n",
    "for p in products:\n",
    "    product_desc.append(\n",
    "        # product names/descriptions can be very long. just get first 50 characterss\n",
    "        p.find_element_by_css_selector('.a-size-medium.a-color-base.a-text-normal').text[:50]\n",
    "    )\n",
    "    \n",
    "    dollars = p.find_elements_by_class_name('a-price-whole')\n",
    "    price = None\n",
    "    if len(dollars) > 0:\n",
    "        price = float(dollars[0].text)\n",
    "    cents = p.find_elements_by_class_name('a-price-fraction')\n",
    "    if len(cents) > 0:\n",
    "        price = price + float('0.' + cents[0].text)\n",
    "    product_price.append(price)"
   ]
  },
  {
   "cell_type": "markdown",
   "id": "0ed775a6",
   "metadata": {},
   "source": [
    "In order to build a dataframe from this information, both lists must be the same lenght. Check to make sure first"
   ]
  },
  {
   "cell_type": "code",
   "execution_count": null,
   "id": "1b2e519d",
   "metadata": {},
   "outputs": [],
   "source": [
    "len(product_desc)"
   ]
  },
  {
   "cell_type": "code",
   "execution_count": null,
   "id": "0eee6806",
   "metadata": {},
   "outputs": [],
   "source": [
    "len(product_price)"
   ]
  },
  {
   "cell_type": "code",
   "execution_count": null,
   "id": "215c1c2a",
   "metadata": {},
   "outputs": [],
   "source": [
    "pd.DataFrame({'product':product_desc,\n",
    "              'price':product_price\n",
    "              })"
   ]
  },
  {
   "cell_type": "markdown",
   "id": "1c426189",
   "metadata": {},
   "source": [
    "Note that although we selected sort by price, there are a few out of order items. That is the result of advertizements/sponsored products.\n",
    "\n",
    "### Cleaning up\n",
    "\n",
    "When finished, make sure you close the browser. Can either `driver.quit()` or `driver.close()`. `.close()` will close open tabs. If you close the last tab, it is the same as calling `.quit()`"
   ]
  },
  {
   "cell_type": "code",
   "execution_count": null,
   "id": "da354e70",
   "metadata": {},
   "outputs": [],
   "source": [
    "driver.quit()"
   ]
  },
  {
   "cell_type": "code",
   "execution_count": null,
   "id": "af529d32",
   "metadata": {},
   "outputs": [],
   "source": [
    "try:\n",
    "    driver.close()\n",
    "except Exception:\n",
    "    print('Already closed')"
   ]
  },
  {
   "cell_type": "markdown",
   "id": "6e30cc55-b636-4482-bc7e-95c2c3d2d650",
   "metadata": {},
   "source": [
    "### Status Check\n",
    "\n",
    "https://cups.fast.ai/gitandweb"
   ]
  },
  {
   "cell_type": "markdown",
   "id": "b3441e85-0de0-4fbc-af13-e1f8b8cb254e",
   "metadata": {},
   "source": [
    "## Playwright Python binding\n",
    "\n",
    "\"Modern successor to Selenium\"\n",
    "\n",
    "https://playwright.dev/python/docs/intro\n",
    "\n",
    "Playwright can also create scripts interactively - you can then adjust or update later.\n",
    "\n",
    "```bash\n",
    "playwright codegen wikipedia.org\n",
    "```\n",
    "\n",
    "**Note:** The below code will not work in Jupyter on Windows OS. The code can be run directly via command line."
   ]
  },
  {
   "cell_type": "code",
   "execution_count": null,
   "id": "4dbe7927-e457-4ae6-9c8e-a10918367f2e",
   "metadata": {},
   "outputs": [],
   "source": [
    "# Note - when running playwright inside Jupyter, special care must be taken due to existing Jupyter asynchronous code\n",
    "# see https://github.com/microsoft/playwright-python/issues/178#issuecomment-680249269 for workarounds and alternatives\n",
    "import nest_asyncio\n",
    "nest_asyncio.apply()\n",
    "\n",
    "import asyncio\n",
    "from playwright.async_api import async_playwright"
   ]
  },
  {
   "cell_type": "code",
   "execution_count": null,
   "id": "5bfb43d2-14f4-4d49-9f56-08099c3ac03a",
   "metadata": {},
   "outputs": [],
   "source": [
    "async def main():\n",
    "    async with async_playwright() as p:\n",
    "        browser = await p.chromium.launch()\n",
    "        page = await browser.new_page()\n",
    "        await page.goto(\"http://playwright.dev\")\n",
    "        print(await page.title())\n",
    "        await browser.close()\n",
    "\n",
    "asyncio.run(main())"
   ]
  },
  {
   "cell_type": "code",
   "execution_count": null,
   "id": "bf770de0-eebd-4702-b312-0b791e18056c",
   "metadata": {},
   "outputs": [],
   "source": [
    "async def main():\n",
    "    async with async_playwright() as p:\n",
    "        browser = await p.chromium.launch()\n",
    "        page = await browser.new_page()\n",
    "        await page.goto('http://whatsmyuseragent.org/')\n",
    "        await page.screenshot(path='playwright-ua.png')\n",
    "        await browser.close()\n",
    "\n",
    "asyncio.run(main())   "
   ]
  },
  {
   "cell_type": "code",
   "execution_count": null,
   "id": "2f14d3f3-8721-4340-8e8f-f0990dc713c8",
   "metadata": {},
   "outputs": [],
   "source": [
    "Image(filename='playwright-ua.png')"
   ]
  },
  {
   "cell_type": "code",
   "execution_count": null,
   "id": "4372a0ba-a3b7-4d01-84de-1a1be702299a",
   "metadata": {},
   "outputs": [],
   "source": []
  }
 ],
 "metadata": {
  "kernelspec": {
   "display_name": "Python 3 (ipykernel)",
   "language": "python",
   "name": "python3"
  },
  "language_info": {
   "codemirror_mode": {
    "name": "ipython",
    "version": 3
   },
   "file_extension": ".py",
   "mimetype": "text/x-python",
   "name": "python",
   "nbconvert_exporter": "python",
   "pygments_lexer": "ipython3",
   "version": "3.9.12"
  }
 },
 "nbformat": 4,
 "nbformat_minor": 5
}
